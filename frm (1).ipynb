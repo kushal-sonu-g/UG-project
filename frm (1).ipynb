{
 "cells": [
  {
   "cell_type": "code",
   "execution_count": 1,
   "metadata": {},
   "outputs": [
    {
     "name": "stdout",
     "output_type": "stream",
     "text": [
      "{'mm': 0, 'nn': 1, 'pm': 2}\n",
      "['mm', 'nn', 'pm']\n",
      "[0, 1, 2]\n"
     ]
    }
   ],
   "source": [
    "import cv2,os\n",
    "\n",
    "data_path='dataset'\n",
    "categories=os.listdir(data_path)\n",
    "labels=[i for i in range(len(categories))]\n",
    "\n",
    "label_dict=dict(zip(categories,labels))\n",
    "\n",
    "print(label_dict)\n",
    "print(categories)\n",
    "print(labels)"
   ]
  },
  {
   "cell_type": "code",
   "execution_count": 2,
   "metadata": {},
   "outputs": [],
   "source": [
    "img_size=100\n",
    "data=[]\n",
    "target=[]\n",
    "\n",
    "\n",
    "for category in categories:\n",
    "    folder_path=os.path.join(data_path,category)\n",
    "    img_names=os.listdir(folder_path)\n",
    "        \n",
    "    for img_name in img_names:\n",
    "        img_path=os.path.join(folder_path,img_name)\n",
    "        img=cv2.imread(img_path)\n",
    "\n",
    "        try:\n",
    "            gray=cv2.cvtColor(img,cv2.COLOR_BGR2GRAY)           \n",
    "            #Coverting the image into gray scale\n",
    "            resized=cv2.resize(gray,(img_size,img_size))\n",
    "            #resizing the gray scale into 100x100, since we need a fixed common size for all the images in the dataset\n",
    "            data.append(resized)\n",
    "            target.append(label_dict[category])\n",
    "            #appending the image and the label(categorized) into the list (dataset)\n",
    "\n",
    "        except Exception as e:\n",
    "            print('Exception:',e)\n",
    "            #if any exception rasied, the exception will be printed here. And pass to the next image"
   ]
  },
  {
   "cell_type": "code",
   "execution_count": 3,
   "metadata": {},
   "outputs": [
    {
     "name": "stderr",
     "output_type": "stream",
     "text": [
      "Using TensorFlow backend.\n"
     ]
    }
   ],
   "source": [
    "import numpy as np\n",
    "\n",
    "data=np.array(data)/255.0\n",
    "data=np.reshape(data,(data.shape[0],img_size,img_size,1))\n",
    "target=np.array(target)\n",
    "\n",
    "from keras.utils import np_utils\n",
    "\n",
    "new_target=np_utils.to_categorical(target)\n",
    "\n",
    "np.save('data',data)\n",
    "np.save('target',new_target)"
   ]
  },
  {
   "cell_type": "code",
   "execution_count": 4,
   "metadata": {},
   "outputs": [],
   "source": [
    "import numpy as np\n",
    "\n",
    "data=np.load('data.npy')\n",
    "target=np.load('target.npy')\n",
    "\n",
    "#loading the save numpy arrays in the previous code"
   ]
  },
  {
   "cell_type": "code",
   "execution_count": 5,
   "metadata": {},
   "outputs": [
    {
     "name": "stdout",
     "output_type": "stream",
     "text": [
      "WARNING:tensorflow:From C:\\ProgramData\\Anaconda3\\lib\\site-packages\\tensorflow\\python\\ops\\resource_variable_ops.py:435: colocate_with (from tensorflow.python.framework.ops) is deprecated and will be removed in a future version.\n",
      "Instructions for updating:\n",
      "Colocations handled automatically by placer.\n"
     ]
    }
   ],
   "source": [
    "from keras.models import Sequential\n",
    "from keras.layers import Dense,Activation,Flatten,Dropout\n",
    "from keras.layers import Conv2D,MaxPooling2D\n",
    "from keras.callbacks import ModelCheckpoint\n",
    "\n",
    "model=Sequential()\n",
    "\n",
    "model.add(Conv2D(200,(3,3),input_shape=data.shape[1:]))\n",
    "model.add(Activation('relu'))\n",
    "model.add(MaxPooling2D(pool_size=(2,2)))\n",
    "#The first CNN layer followed by Relu and MaxPooling layers\n",
    "\n",
    "model.add(Conv2D(150,(3,3)))\n",
    "model.add(Activation('relu'))\n",
    "model.add(MaxPooling2D(pool_size=(2,2)))\n",
    "#The second convolution layer followed by Relu and MaxPooling layers\n",
    "\n",
    "model.add(Conv2D(100,(3,3)))\n",
    "model.add(Activation('relu'))\n",
    "model.add(MaxPooling2D(pool_size=(2,2)))\n",
    "\n",
    "model.add(Flatten())\n",
    "model.add(Dropout(0.5))\n",
    "#Flatten layer to stack the output convolutions from second convolution layer\n",
    "model.add(Dense(50,activation='relu'))\n",
    "#Dense layer of 64 neurons\n",
    "model.add(Dense(3,activation='softmax'))\n",
    "#The Final layer with three outputs for two categories\n",
    "\n",
    "model.compile(loss='categorical_crossentropy',optimizer='adam',metrics=['accuracy'])"
   ]
  },
  {
   "cell_type": "code",
   "execution_count": 6,
   "metadata": {},
   "outputs": [
    {
     "name": "stdout",
     "output_type": "stream",
     "text": [
      "Model: \"sequential_1\"\n",
      "_________________________________________________________________\n",
      "Layer (type)                 Output Shape              Param #   \n",
      "=================================================================\n",
      "conv2d_1 (Conv2D)            (None, 98, 98, 200)       2000      \n",
      "_________________________________________________________________\n",
      "activation_1 (Activation)    (None, 98, 98, 200)       0         \n",
      "_________________________________________________________________\n",
      "max_pooling2d_1 (MaxPooling2 (None, 49, 49, 200)       0         \n",
      "_________________________________________________________________\n",
      "conv2d_2 (Conv2D)            (None, 47, 47, 150)       270150    \n",
      "_________________________________________________________________\n",
      "activation_2 (Activation)    (None, 47, 47, 150)       0         \n",
      "_________________________________________________________________\n",
      "max_pooling2d_2 (MaxPooling2 (None, 23, 23, 150)       0         \n",
      "_________________________________________________________________\n",
      "conv2d_3 (Conv2D)            (None, 21, 21, 100)       135100    \n",
      "_________________________________________________________________\n",
      "activation_3 (Activation)    (None, 21, 21, 100)       0         \n",
      "_________________________________________________________________\n",
      "max_pooling2d_3 (MaxPooling2 (None, 10, 10, 100)       0         \n",
      "_________________________________________________________________\n",
      "flatten_1 (Flatten)          (None, 10000)             0         \n",
      "_________________________________________________________________\n",
      "dropout_1 (Dropout)          (None, 10000)             0         \n",
      "_________________________________________________________________\n",
      "dense_1 (Dense)              (None, 50)                500050    \n",
      "_________________________________________________________________\n",
      "dense_2 (Dense)              (None, 3)                 153       \n",
      "=================================================================\n",
      "Total params: 907,453\n",
      "Trainable params: 907,453\n",
      "Non-trainable params: 0\n",
      "_________________________________________________________________\n"
     ]
    }
   ],
   "source": [
    "model.summary()"
   ]
  },
  {
   "cell_type": "code",
   "execution_count": 7,
   "metadata": {},
   "outputs": [],
   "source": [
    "from sklearn.model_selection import train_test_split\n",
    "\n",
    "train_data,test_data,train_target,test_target=train_test_split(data,target,test_size=0.1)"
   ]
  },
  {
   "cell_type": "code",
   "execution_count": 8,
   "metadata": {},
   "outputs": [
    {
     "name": "stdout",
     "output_type": "stream",
     "text": [
      "WARNING:tensorflow:From C:\\ProgramData\\Anaconda3\\lib\\site-packages\\tensorflow\\python\\ops\\math_ops.py:3066: to_int32 (from tensorflow.python.ops.math_ops) is deprecated and will be removed in a future version.\n",
      "Instructions for updating:\n",
      "Use tf.cast instead.\n",
      "Train on 648 samples, validate on 162 samples\n",
      "Epoch 1/25\n",
      "648/648 [==============================] - 164s 254ms/step - loss: 0.6126 - accuracy: 0.7377 - val_loss: 0.0669 - val_accuracy: 0.9938\n",
      "Epoch 2/25\n",
      "648/648 [==============================] - 161s 248ms/step - loss: 0.0765 - accuracy: 0.9769 - val_loss: 0.1336 - val_accuracy: 0.9568\n",
      "Epoch 3/25\n",
      "648/648 [==============================] - 159s 246ms/step - loss: 0.0267 - accuracy: 0.9907 - val_loss: 0.0076 - val_accuracy: 1.0000\n",
      "Epoch 4/25\n",
      "648/648 [==============================] - 159s 246ms/step - loss: 0.0020 - accuracy: 1.0000 - val_loss: 1.1975e-04 - val_accuracy: 1.0000\n",
      "Epoch 5/25\n",
      "648/648 [==============================] - 160s 247ms/step - loss: 2.5160e-04 - accuracy: 1.0000 - val_loss: 1.4233e-05 - val_accuracy: 1.0000\n",
      "Epoch 6/25\n",
      "648/648 [==============================] - 159s 245ms/step - loss: 5.2536e-05 - accuracy: 1.0000 - val_loss: 1.3079e-05 - val_accuracy: 1.0000\n",
      "Epoch 7/25\n",
      "648/648 [==============================] - 159s 245ms/step - loss: 4.0569e-05 - accuracy: 1.0000 - val_loss: 1.0939e-05 - val_accuracy: 1.0000\n",
      "Epoch 8/25\n",
      "648/648 [==============================] - 160s 246ms/step - loss: 3.1117e-05 - accuracy: 1.0000 - val_loss: 1.0610e-05 - val_accuracy: 1.0000\n",
      "Epoch 9/25\n",
      "648/648 [==============================] - 160s 247ms/step - loss: 6.3457e-05 - accuracy: 1.0000 - val_loss: 1.2704e-05 - val_accuracy: 1.0000\n",
      "Epoch 10/25\n",
      "648/648 [==============================] - 159s 245ms/step - loss: 1.1363e-04 - accuracy: 1.0000 - val_loss: 1.0338e-05 - val_accuracy: 1.0000\n",
      "Epoch 11/25\n",
      "648/648 [==============================] - 158s 245ms/step - loss: 6.7375e-06 - accuracy: 1.0000 - val_loss: 3.5455e-06 - val_accuracy: 1.0000\n",
      "Epoch 12/25\n",
      "648/648 [==============================] - 160s 246ms/step - loss: 8.2048e-05 - accuracy: 1.0000 - val_loss: 7.3168e-06 - val_accuracy: 1.0000\n",
      "Epoch 13/25\n",
      "648/648 [==============================] - 159s 246ms/step - loss: 6.7934e-06 - accuracy: 1.0000 - val_loss: 4.4585e-06 - val_accuracy: 1.0000\n",
      "Epoch 14/25\n",
      "648/648 [==============================] - 159s 246ms/step - loss: 4.8175e-05 - accuracy: 1.0000 - val_loss: 3.6946e-06 - val_accuracy: 1.0000\n",
      "Epoch 15/25\n",
      "648/648 [==============================] - 159s 246ms/step - loss: 1.5556e-05 - accuracy: 1.0000 - val_loss: 3.1408e-06 - val_accuracy: 1.0000\n",
      "Epoch 16/25\n",
      "648/648 [==============================] - 159s 245ms/step - loss: 6.7155e-06 - accuracy: 1.0000 - val_loss: 2.1984e-06 - val_accuracy: 1.0000\n",
      "Epoch 17/25\n",
      "648/648 [==============================] - 158s 244ms/step - loss: 9.7630e-06 - accuracy: 1.0000 - val_loss: 1.6693e-06 - val_accuracy: 1.0000\n",
      "Epoch 18/25\n",
      "648/648 [==============================] - 158s 244ms/step - loss: 7.4702e-06 - accuracy: 1.0000 - val_loss: 1.5306e-06 - val_accuracy: 1.0000\n",
      "Epoch 19/25\n",
      "648/648 [==============================] - 160s 247ms/step - loss: 2.9177e-06 - accuracy: 1.0000 - val_loss: 1.6005e-06 - val_accuracy: 1.0000\n",
      "Epoch 20/25\n",
      "648/648 [==============================] - 160s 246ms/step - loss: 6.5151e-06 - accuracy: 1.0000 - val_loss: 1.6270e-06 - val_accuracy: 1.0000\n",
      "Epoch 21/25\n",
      "648/648 [==============================] - 158s 244ms/step - loss: 1.0399e-05 - accuracy: 1.0000 - val_loss: 1.0361e-06 - val_accuracy: 1.0000\n",
      "Epoch 22/25\n",
      "648/648 [==============================] - 159s 245ms/step - loss: 6.6330e-06 - accuracy: 1.0000 - val_loss: 7.1563e-07 - val_accuracy: 1.0000\n",
      "Epoch 23/25\n",
      "648/648 [==============================] - 159s 246ms/step - loss: 9.4657e-06 - accuracy: 1.0000 - val_loss: 1.0895e-06 - val_accuracy: 1.0000\n",
      "Epoch 24/25\n",
      "648/648 [==============================] - 166s 256ms/step - loss: 2.6478e-05 - accuracy: 1.0000 - val_loss: 3.2068e-06 - val_accuracy: 1.0000\n",
      "Epoch 25/25\n",
      "648/648 [==============================] - 160s 247ms/step - loss: 7.6183e-06 - accuracy: 1.0000 - val_loss: 8.3383e-06 - val_accuracy: 1.0000\n"
     ]
    }
   ],
   "source": [
    "checkpoint = ModelCheckpoint('model-{epoch:03d}.model',monitor='val_loss',verbose=0,save_best_only=True,mode='auto')\n",
    "history=model.fit(train_data,train_target,epochs=25,callbacks=[checkpoint],validation_split=0.2)"
   ]
  },
  {
   "cell_type": "code",
   "execution_count": 10,
   "metadata": {},
   "outputs": [
    {
     "data": {
      "image/png": "[encoded data removed]",
      "text/plain": [
       "<Figure size 432x288 with 1 Axes>"
      ]
     },
     "metadata": {
      "needs_background": "light"
     },
     "output_type": "display_data"
    }
   ],
   "source": [
    "from matplotlib import pyplot as plt\n",
    "plt.plot(history.history['loss'],'r',label='training loss')\n",
    "plt.plot(history.history['val_loss'],label='validation loss')\n",
    "plt.xlabel('# epochs')\n",
    "plt.ylabel('loss')\n",
    "plt.legend()\n",
    "plt.show()"
   ]
  },
  {
   "cell_type": "code",
   "execution_count": 11,
   "metadata": {},
   "outputs": [
    {
     "data": {
      "image/png": "[encoded data removed]",
      "text/plain": [
       "<Figure size 432x288 with 1 Axes>"
      ]
     },
     "metadata": {
      "needs_background": "light"
     },
     "output_type": "display_data"
    }
   ],
   "source": [
    "plt.plot(history.history['accuracy'],'r',label='training accuracy')\n",
    "plt.plot(history.history['val_accuracy'],label='validation accuracy')\n",
    "plt.xlabel('# epochs')\n",
    "plt.ylabel('loss')\n",
    "plt.legend()\n",
    "plt.show()"
   ]
  },
  {
   "cell_type": "code",
   "execution_count": 12,
   "metadata": {},
   "outputs": [
    {
     "name": "stdout",
     "output_type": "stream",
     "text": [
      "91/91 [==============================] - 7s 78ms/step\n",
      "[6.284762147575688e-06, 1.0]\n"
     ]
    }
   ],
   "source": [
    "print(model.evaluate(test_data,test_target))"
   ]
  },
  {
   "cell_type": "code",
   "execution_count": 1,
   "metadata": {},
   "outputs": [
    {
     "name": "stderr",
     "output_type": "stream",
     "text": [
      "Using TensorFlow backend.\n"
     ]
    }
   ],
   "source": [
    "from keras.models import load_model\n",
    "import matplotlib.pyplot as plt\n",
    "import cv2\n",
    "import numpy as np"
   ]
  },
  {
   "cell_type": "code",
   "execution_count": 2,
   "metadata": {},
   "outputs": [
    {
     "name": "stdout",
     "output_type": "stream",
     "text": [
      "WARNING:tensorflow:From C:\\ProgramData\\Anaconda3\\lib\\site-packages\\tensorflow\\python\\ops\\resource_variable_ops.py:435: colocate_with (from tensorflow.python.framework.ops) is deprecated and will be removed in a future version.\n",
      "Instructions for updating:\n",
      "Colocations handled automatically by placer.\n",
      "WARNING:tensorflow:From C:\\ProgramData\\Anaconda3\\lib\\site-packages\\tensorflow\\python\\ops\\math_ops.py:3066: to_int32 (from tensorflow.python.ops.math_ops) is deprecated and will be removed in a future version.\n",
      "Instructions for updating:\n",
      "Use tf.cast instead.\n"
     ]
    }
   ],
   "source": [
    "model = load_model('model-017.model')\n",
    "\n",
    "face_clsfr=cv2.CascadeClassifier(r'C:\\Users\\User\\Desktop\\finalproject\\Face Mask Detection\\haarcascade_frontalface_default.xml')\n",
    "#face_clsfr=cv2.CascadeClassifier(r'C:\\Users\\User\\Desktop\\FMD project\\haarcascade_eye.xml')\n",
    "\n",
    "source=cv2.VideoCapture(0)\n",
    "\n",
    "labels_dict={0:'manjunath',1:'nags',2:'praj'}\n",
    "color_dict={0:(0,255,0),1:(0,0,255),2:(255,0,0)}\n",
    "#labels_dict={0:'MASK',1:'surgical_mask',2:'without_mask'}\n",
    "#color_dict={0:(0,255,0),1:(0,0,255),2:(0,0,255)}"
   ]
  },
  {
   "cell_type": "code",
   "execution_count": 4,
   "metadata": {},
   "outputs": [],
   "source": [
    "model = load_model('model-022.model')\n",
    "\n",
    "face_clsfr=cv2.CascadeClassifier(r'C:\\Users\\User\\Desktop\\FRM\\haarcascade_eye.xml')\n",
    "#face_clsfr=cv2.CascadeClassifier(r'C:\\Users\\User\\Desktop\\FMD project\\haarcascade_eye.xml')\n",
    "\n",
    "source=cv2.VideoCapture(0)\n",
    "\n",
    "labels_dict={0:'manjunath',1:'nags',2:'praj'}\n",
    "color_dict={0:(0,255,0),1:(0,0,255),2:(255,0,0)}\n",
    "#labels_dict={0:'MASK',1:'surgical_mask',2:'without_mask'}\n",
    "#color_dict={0:(0,255,0),1:(0,0,255),2:(0,0,255)}"
   ]
  },
  {
   "cell_type": "code",
   "execution_count": 3,
   "metadata": {},
   "outputs": [],
   "source": [
    "while(True):\n",
    "\n",
    "    ret,img=source.read()\n",
    "    gray=cv2.cvtColor(img,cv2.COLOR_BGR2GRAY)\n",
    "    faces=face_clsfr.detectMultiScale(gray,1.3,5)  \n",
    "\n",
    "    for x,y,w,h in faces:\n",
    "    \n",
    "        face_img=gray[y:y+w,x:x+w]\n",
    "        resized=cv2.resize(face_img,(100,100))\n",
    "        normalized=resized/255.0\n",
    "        reshaped=np.reshape(normalized,(1,100,100,1))\n",
    "        result=model.predict(reshaped)\n",
    "\n",
    "        label=np.argmax(result,axis=1)[0]\n",
    "      \n",
    "        cv2.rectangle(img,(x,y),(x+w,y+h),color_dict[label],2)\n",
    "        cv2.rectangle(img,(x,y-40),(x+w,y),color_dict[label],-1)\n",
    "        cv2.putText(img, labels_dict[label], (x, y-10),cv2.FONT_HERSHEY_SIMPLEX,0.8,(255,255,255),2)\n",
    "        \n",
    "        \n",
    "    cv2.imshow('LIVE',img)\n",
    "    key=cv2.waitKey(1)\n",
    "    \n",
    "    if(key==27):\n",
    "        break\n",
    "        \n",
    "cv2.destroyAllWindows()\n",
    "source.release()"
   ]
  },
  {
   "cell_type": "code",
   "execution_count": 13,
   "metadata": {},
   "outputs": [],
   "source": [
    "import cv2\n",
    "img_size=100\n",
    "img = cv2.imread(r'C:\\Users\\User\\Desktop\\FRM\\n49.jpg')\n",
    "gray=cv2.cvtColor(img,cv2.COLOR_BGR2GRAY)           \n",
    "#Coverting the image into gray scale\n",
    "resized=cv2.resize(gray,(img_size,img_size))\n",
    "normalized=resized/255.0\n",
    "reshaped=np.reshape(normalized,(1,100,100,1))\n",
    "result=model.predict(reshaped)\n",
    "\n",
    "label=np.argmax(result,axis=1)[0]\n",
    "faces=face_clsfr.detectMultiScale(gray,1.3,5)  \n",
    "for (x,y,w,h) in faces:\n",
    "    \n",
    "        face_img=gray[y:y+w,x:x+w]\n",
    "        resized=cv2.resize(face_img,(100,100))\n",
    "        normalized=resized/255.0\n",
    "        reshaped=np.reshape(normalized,(1,100,100,1))\n",
    "        result=model.predict(reshaped)\n",
    "       \n",
    "\n",
    "        label=np.argmax(result,axis=1)[0]\n",
    "        \n",
    "        cv2.rectangle(img,(x,y),(x+w,y+h),color_dict[label],2)\n",
    "        cv2.rectangle(img,(x,y-40),(x+w,y),color_dict[label],-1)\n",
    "        cv2.putText(img, labels_dict[label], (x, y-10),cv2.FONT_HERSHEY_SIMPLEX,0.8,(255,255,255),2)\n",
    "        #changes\n",
    "        #cv2.rectangle(img,(x,y),(x+w,y+h),color_dict[label1],2)\n",
    "        #cv2.rectangle(img,(x,y-40),(x+w,y),color_dict[label1],-1)\n",
    "        \n",
    "       \n",
    "\n",
    "        \n",
    "   \n",
    "        \n",
    "cv2.destroyAllWindows()\n",
    "source.release()\n",
    "\n",
    "cv2.imshow('Detection',img)\n",
    "#key=cv2.waitKey(0)\n",
    "cv2.waitKey(0)\n",
    "cv2.destroyAllWindows()\n",
    "source.release()"
   ]
  },
  {
   "cell_type": "code",
   "execution_count": 7,
   "metadata": {},
   "outputs": [],
   "source": [
    "x= 30\n",
    "y= 22\n",
    "w= 309\n",
    "h= 309\n"
   ]
  },
  {
   "cell_type": "code",
   "execution_count": 8,
   "metadata": {},
   "outputs": [],
   "source": [
    "import cv2\n",
    "img_size=100\n",
    "img = cv2.imread(r'C:\\Users\\User\\Desktop\\FRM\\n49.jpg')\n",
    "gray=cv2.cvtColor(img,cv2.COLOR_BGR2GRAY)           \n",
    "#Coverting the image into gray scale\n",
    "resized=cv2.resize(gray,(img_size,img_size))\n",
    "normalized=resized/255.0\n",
    "reshaped=np.reshape(normalized,(1,100,100,1))\n",
    "#result=model.predict(reshaped)\n",
    "face_img=gray[y:y+w,x:x+w]\n",
    "resized=cv2.resize(face_img,(100,100))\n",
    "normalized=resized/255.0\n",
    "reshaped=np.reshape(normalized,(1,100,100,1))\n",
    "result=model.predict(reshaped)\n",
    "\n",
    "\n",
    "label=np.argmax(result,axis=1)[0]\n",
    "cv2.rectangle(img,(x,y),(x+w,y+h),color_dict[label],2)\n",
    "cv2.rectangle(img,(x,y-40),(x+w,y),color_dict[label],-1)\n",
    "cv2.putText(img, labels_dict[label], (x, y-10),cv2.FONT_HERSHEY_SIMPLEX,0.8,(255,255,255),2)\n",
    "                    #changes\n",
    "                    #cv2.rectangle(img,(x,y),(x+w,y+h),color_dict[label1],2)\n",
    "                    #cv2.rectangle(img,(x,y-40),(x+w,y),color_dict[label1],-1)\n",
    "        \n",
    "       \n",
    "\n",
    "        \n",
    "   \n",
    "        \n",
    "cv2.destroyAllWindows()\n",
    "source.release()\n",
    "\n",
    "cv2.imshow('Detection',img)\n",
    "#key=cv2.waitKey(0)\n",
    "cv2.waitKey(0)\n",
    "cv2.destroyAllWindows()\n",
    "source.release()"
   ]
  },
  {
   "cell_type": "code",
   "execution_count": null,
   "metadata": {},
   "outputs": [],
   "source": []
  }
 ],
 "metadata": {
  "kernelspec": {
   "display_name": "Python 3",
   "language": "python",
   "name": "python3"
  },
  "language_info": {
   "codemirror_mode": {
    "name": "ipython",
    "version": 3
   },
   "file_extension": ".py",
   "mimetype": "text/x-python",
   "name": "python",
   "nbconvert_exporter": "python",
   "pygments_lexer": "ipython3",
   "version": "3.7.4"
  }
 },
 "nbformat": 4,
 "nbformat_minor": 2
}
